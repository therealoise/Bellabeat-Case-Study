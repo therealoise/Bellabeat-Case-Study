{
 "cells": [
  {
   "cell_type": "markdown",
   "id": "53ea9433",
   "metadata": {
    "_cell_guid": "b1076dfc-b9ad-4769-8c92-a6c4dae69d19",
    "_uuid": "8f2839f25d086af736a60e9eeb907d3b93b6e0e5",
    "execution": {
     "iopub.execute_input": "2022-10-07T22:40:49.611690Z",
     "iopub.status.busy": "2022-10-07T22:40:49.610942Z",
     "iopub.status.idle": "2022-10-07T22:40:49.641165Z",
     "shell.execute_reply": "2022-10-07T22:40:49.639863Z",
     "shell.execute_reply.started": "2022-10-07T22:40:49.611579Z"
    },
    "papermill": {
     "duration": 0.003253,
     "end_time": "2022-10-07T22:52:52.247165",
     "exception": false,
     "start_time": "2022-10-07T22:52:52.243912",
     "status": "completed"
    },
    "tags": []
   },
   "source": [
    "I'm currently working on a couple of projects where I am analyzing different cryptocurrencies. Just thought I should share a simple function I used to grab some data from **yahoofinance**. You can tweak the parameters to suit the timeframe you need for your project."
   ]
  },
  {
   "cell_type": "code",
   "execution_count": 1,
   "id": "a9ec4048",
   "metadata": {
    "execution": {
     "iopub.execute_input": "2022-10-07T22:52:52.254348Z",
     "iopub.status.busy": "2022-10-07T22:52:52.253714Z",
     "iopub.status.idle": "2022-10-07T22:52:52.266724Z",
     "shell.execute_reply": "2022-10-07T22:52:52.265738Z"
    },
    "papermill": {
     "duration": 0.01967,
     "end_time": "2022-10-07T22:52:52.269260",
     "exception": false,
     "start_time": "2022-10-07T22:52:52.249590",
     "status": "completed"
    },
    "tags": []
   },
   "outputs": [],
   "source": [
    "from datetime import datetime\n",
    "import time\n",
    "import pandas as pd"
   ]
  },
  {
   "cell_type": "code",
   "execution_count": 2,
   "id": "d5d00d35",
   "metadata": {
    "execution": {
     "iopub.execute_input": "2022-10-07T22:52:52.275283Z",
     "iopub.status.busy": "2022-10-07T22:52:52.274928Z",
     "iopub.status.idle": "2022-10-07T22:52:52.459593Z",
     "shell.execute_reply": "2022-10-07T22:52:52.458751Z"
    },
    "papermill": {
     "duration": 0.190622,
     "end_time": "2022-10-07T22:52:52.462178",
     "exception": false,
     "start_time": "2022-10-07T22:52:52.271556",
     "status": "completed"
    },
    "tags": []
   },
   "outputs": [],
   "source": [
    "def create_download_url(\n",
    "    ticker,\n",
    "    period1,\n",
    "    period2,\n",
    "    interval='monthly'\n",
    "):\n",
    "    \"\"\"\n",
    "    Date format for period 1 and 2= 'yyyy-mm-dd'\n",
    "    The interval: {daily; weekly, monthly}\n",
    "    \"\"\"\n",
    "    def convert_to_seconds(period):\n",
    "        datetime_value = datetime.strptime(period, '%Y-%m-%d')\n",
    "        total_seconds = int(time.mktime(datetime_value.timetuple())) + 86400\n",
    "        return total_seconds\n",
    "    try:\n",
    "        interval_reference = {'daily': '1d', 'weekly': '1wk', 'monthly': '1mo'}\n",
    "        _interval = interval_reference.get(interval)\n",
    "        if _interval is None:\n",
    "            print('interval code is incorrect')\n",
    "            return\n",
    "        p1 = convert_to_seconds(period1)\n",
    "        p2 = convert_to_seconds(period2)\n",
    "        url = f'https://query1.finance.yahoo.com/v7/finance/download/{ticker}?period1={p1}&period2={p2}&interval={_interval}&filter=history'\n",
    "        return url\n",
    "    except Exception as e:\n",
    "        print (e)\n",
    "        return\n",
    "    \n",
    "#grab dataset\n",
    "query_url = create_download_url('BTC-USD', '2020-08-07', '2022-08-07', 'daily')\n",
    "df = pd.read_csv(query_url)\n",
    "df.set_index('Date', inplace=True)\n",
    "    \n",
    "#Export as csv\n",
    "df.to_csv(\"Bitcoin_Historical_Data.csv\")"
   ]
  },
  {
   "cell_type": "code",
   "execution_count": 3,
   "id": "18157991",
   "metadata": {
    "execution": {
     "iopub.execute_input": "2022-10-07T22:52:52.468049Z",
     "iopub.status.busy": "2022-10-07T22:52:52.467700Z",
     "iopub.status.idle": "2022-10-07T22:52:52.490366Z",
     "shell.execute_reply": "2022-10-07T22:52:52.489204Z"
    },
    "papermill": {
     "duration": 0.028574,
     "end_time": "2022-10-07T22:52:52.493014",
     "exception": false,
     "start_time": "2022-10-07T22:52:52.464440",
     "status": "completed"
    },
    "tags": []
   },
   "outputs": [
    {
     "data": {
      "text/html": [
       "<div>\n",
       "<style scoped>\n",
       "    .dataframe tbody tr th:only-of-type {\n",
       "        vertical-align: middle;\n",
       "    }\n",
       "\n",
       "    .dataframe tbody tr th {\n",
       "        vertical-align: top;\n",
       "    }\n",
       "\n",
       "    .dataframe thead th {\n",
       "        text-align: right;\n",
       "    }\n",
       "</style>\n",
       "<table border=\"1\" class=\"dataframe\">\n",
       "  <thead>\n",
       "    <tr style=\"text-align: right;\">\n",
       "      <th></th>\n",
       "      <th>Date</th>\n",
       "      <th>Open</th>\n",
       "      <th>High</th>\n",
       "      <th>Low</th>\n",
       "      <th>Close</th>\n",
       "      <th>Adj Close</th>\n",
       "      <th>Volume</th>\n",
       "    </tr>\n",
       "  </thead>\n",
       "  <tbody>\n",
       "    <tr>\n",
       "      <th>0</th>\n",
       "      <td>2020-08-08</td>\n",
       "      <td>11604.553711</td>\n",
       "      <td>11800.064453</td>\n",
       "      <td>11558.431641</td>\n",
       "      <td>11754.045898</td>\n",
       "      <td>11754.045898</td>\n",
       "      <td>17572057837</td>\n",
       "    </tr>\n",
       "    <tr>\n",
       "      <th>1</th>\n",
       "      <td>2020-08-09</td>\n",
       "      <td>11737.325195</td>\n",
       "      <td>11806.056641</td>\n",
       "      <td>11548.784180</td>\n",
       "      <td>11675.739258</td>\n",
       "      <td>11675.739258</td>\n",
       "      <td>17489608833</td>\n",
       "    </tr>\n",
       "    <tr>\n",
       "      <th>2</th>\n",
       "      <td>2020-08-10</td>\n",
       "      <td>11662.256836</td>\n",
       "      <td>12045.140625</td>\n",
       "      <td>11662.256836</td>\n",
       "      <td>11878.111328</td>\n",
       "      <td>11878.111328</td>\n",
       "      <td>26114112569</td>\n",
       "    </tr>\n",
       "    <tr>\n",
       "      <th>3</th>\n",
       "      <td>2020-08-11</td>\n",
       "      <td>11881.647461</td>\n",
       "      <td>11932.710938</td>\n",
       "      <td>11195.708984</td>\n",
       "      <td>11410.525391</td>\n",
       "      <td>11410.525391</td>\n",
       "      <td>27039782640</td>\n",
       "    </tr>\n",
       "    <tr>\n",
       "      <th>4</th>\n",
       "      <td>2020-08-12</td>\n",
       "      <td>11404.596680</td>\n",
       "      <td>11748.396484</td>\n",
       "      <td>11249.605469</td>\n",
       "      <td>11584.934570</td>\n",
       "      <td>11584.934570</td>\n",
       "      <td>25064548486</td>\n",
       "    </tr>\n",
       "  </tbody>\n",
       "</table>\n",
       "</div>"
      ],
      "text/plain": [
       "         Date          Open          High           Low         Close  \\\n",
       "0  2020-08-08  11604.553711  11800.064453  11558.431641  11754.045898   \n",
       "1  2020-08-09  11737.325195  11806.056641  11548.784180  11675.739258   \n",
       "2  2020-08-10  11662.256836  12045.140625  11662.256836  11878.111328   \n",
       "3  2020-08-11  11881.647461  11932.710938  11195.708984  11410.525391   \n",
       "4  2020-08-12  11404.596680  11748.396484  11249.605469  11584.934570   \n",
       "\n",
       "      Adj Close       Volume  \n",
       "0  11754.045898  17572057837  \n",
       "1  11675.739258  17489608833  \n",
       "2  11878.111328  26114112569  \n",
       "3  11410.525391  27039782640  \n",
       "4  11584.934570  25064548486  "
      ]
     },
     "execution_count": 3,
     "metadata": {},
     "output_type": "execute_result"
    }
   ],
   "source": [
    "df = pd.read_csv(\"Bitcoin_Historical_Data.csv\")\n",
    "df.head()"
   ]
  },
  {
   "cell_type": "markdown",
   "id": "47b7732b",
   "metadata": {
    "papermill": {
     "duration": 0.002228,
     "end_time": "2022-10-07T22:52:52.497882",
     "exception": false,
     "start_time": "2022-10-07T22:52:52.495654",
     "status": "completed"
    },
    "tags": []
   },
   "source": [
    "If you find this helpful, do consider leaving an upvote."
   ]
  }
 ],
 "metadata": {
  "kernelspec": {
   "display_name": "Python 3",
   "language": "python",
   "name": "python3"
  },
  "language_info": {
   "codemirror_mode": {
    "name": "ipython",
    "version": 3
   },
   "file_extension": ".py",
   "mimetype": "text/x-python",
   "name": "python",
   "nbconvert_exporter": "python",
   "pygments_lexer": "ipython3",
   "version": "3.7.12"
  },
  "papermill": {
   "default_parameters": {},
   "duration": 11.482799,
   "end_time": "2022-10-07T22:52:53.221805",
   "environment_variables": {},
   "exception": null,
   "input_path": "__notebook__.ipynb",
   "output_path": "__notebook__.ipynb",
   "parameters": {},
   "start_time": "2022-10-07T22:52:41.739006",
   "version": "2.3.4"
  }
 },
 "nbformat": 4,
 "nbformat_minor": 5
}
