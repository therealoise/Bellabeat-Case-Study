{
 "cells": [
  {
   "cell_type": "markdown",
   "id": "044066b7",
   "metadata": {},
   "source": [
    "## Introduction\n",
    "Bellabeat is a high-tech manufacturer of health-focused products for women such as Bellabeat app, Leaf, Time, Spring, and Bellabeat membership. It was founded in 2013 by Urška Sršen and Sando Mur. The company is quite successful, with lots of potential to become a larger player in the global smart device industry. The founders are of the view that analyzing smart device fitness data could help unlock new growth opportunities for the company.\n",
    "\n",
    "In this case study, I will follow the six steps of the data analysis process: **ask**, **prepare**, **process**, **analyze**, **share**, and **act**, to break down how I analyzed the FitBit fitness Tracker Data in order to gain some insights that could be beneficial to Bellabeat.\n",
    "\n",
    "## <span style=\"color:#ed7674\">1. ASK</span>\n",
    "\n",
    "### Key Stakeholders:\n",
    "1.\t**Urška Sršen**: Cofounder and Chief Creative Officer at Bellabeat.\n",
    "2.\t**Sando Mur**: Cofounder and key member of the Bellabeat executive team. \n",
    "3.\t**Marketing analytics team at Bellabeat**: A team of data analysts responsible for collecting, analyzing, and reporting data that helps guide Bellabeat’s marketing strategy.\n",
    "4.\t**Customers**: Everyone who purchases their product or use Bellabeat’s services. \n",
    "\n",
    "### Business Task:  \n",
    "1.\tTo analyze FitBit Fitness Tracker Data from thirty eligible FitBit users, in order to gain some insights that could unlock new growth opportunities for the company. \n",
    "2.\tTo focus on one of Bellabeat’s products and analyze smart device data to gain insight into how customers are using their smart devices. For this case study, I will focus on the **Bellabeat membership program**. This is a subscription-based membership program that gives users 24/7 access to fully personalized guidance on nutrition, activity, sleep, health and beauty, and mindfulness based on their lifestyle and goals\n",
    "\n",
    "## <span style=\"color:#ed7674\">2: PREPARE</span>\n",
    "\n",
    "### Information about the Data Source:\n",
    "1.\tThe data is a free to use FitBit Fitness tracker dataset made available through Mobius. It contains personal fitness tracker data from over thirty FitBit users who have consented to use their data. \n",
    "2.\tThere are 18 csv files in all, but the datasets I find relevant to the product I want to focus on are daily activity, hourly calories, hourly steps, and sleep day dataset. \n",
    "\n",
    "### Sorting the Data:\n",
    "1.\tTo have a quick overview of the data I have chosen, I opened each of them in Google sheets. The first thing I noticed was that the data was organized in a long format. I also noticed that the dailyActivity_merged data contains some metrics that can give us some insights like the total steps taken by the Fitbit users, the active minutes spent, and the calories burned. With that we can establish some correlation between calories burned and the steps taken. The hourly calories and the hourly steps contain info about the activity hour that will help give some insight about calories and the time of the day.\n",
    "2.\tI then created a separate folder on my desktop to store the files, since I was going to use python and jupyter notebook to process the data. \n",
    "\n",
    "### Data Credibility:\n",
    "1.\tIn terms of reliability, a general rule of thumb for the Large Enough Sample Condition is that the sample size should be greater than or equal to 30(Reviews, 2022). Hence, we can say that with 33 FitBit Users, we can derive some good insights that can be generalized.\n",
    "2.\tThe data is also still current since it’s not older than 10 years.\n",
    "3.\tThe data collected also matches Bellabeat’s products. Hence, some results from the analysis can be applied to Bellabeat’s products.\n",
    "4.\tEven though this is a third-party data, the quality of the data is not questionable. The source is also known.\n",
    "\n",
    "## <span style=\"color:#ed7674\">3: PROCESS</span>\n",
    "\n",
    "### Loading Libraries\n",
    "\n",
    "I started by loading the libraries I would need for processing and visualizing the data.\n"
   ]
  },
  {
   "cell_type": "code",
   "execution_count": 1,
   "id": "f51fc370",
   "metadata": {},
   "outputs": [],
   "source": [
    "import pandas as pd\n",
    "import numpy as np\n",
    "import matplotlib as plt\n",
    "import datetime as dt"
   ]
  },
  {
   "cell_type": "markdown",
   "id": "bea72fbf",
   "metadata": {},
   "source": [
    "### Loading Datasets\n",
    "\n",
    "Next, I loaded the four datasets I was interested in exploring for insights."
   ]
  },
  {
   "cell_type": "code",
   "execution_count": 2,
   "id": "b559db7a",
   "metadata": {},
   "outputs": [],
   "source": [
    "daily_activity = pd.read_csv('dailyActivity_merged.csv')\n",
    "hourly_steps = pd.read_csv('hourlySteps_merged.csv')\n",
    "hourly_calories = pd.read_csv('hourlyCalories_merged.csv')\n",
    "sleepday = pd.read_csv('sleepDay_merged.csv')"
   ]
  },
  {
   "cell_type": "markdown",
   "id": "278032e4",
   "metadata": {},
   "source": [
    "### Data Exploration\n",
    "\n",
    "I already viewed the data from my spreadsheet, but I decided to view them again, just to be sure everything loaded perfectly. So, I pulled up the first five rows starting with the daily activity dataset."
   ]
  },
  {
   "cell_type": "code",
   "execution_count": 3,
   "id": "de554b2c",
   "metadata": {
    "scrolled": true
   },
   "outputs": [
    {
     "data": {
      "text/html": [
       "<div>\n",
       "<style scoped>\n",
       "    .dataframe tbody tr th:only-of-type {\n",
       "        vertical-align: middle;\n",
       "    }\n",
       "\n",
       "    .dataframe tbody tr th {\n",
       "        vertical-align: top;\n",
       "    }\n",
       "\n",
       "    .dataframe thead th {\n",
       "        text-align: right;\n",
       "    }\n",
       "</style>\n",
       "<table border=\"1\" class=\"dataframe\">\n",
       "  <thead>\n",
       "    <tr style=\"text-align: right;\">\n",
       "      <th></th>\n",
       "      <th>Id</th>\n",
       "      <th>ActivityDate</th>\n",
       "      <th>TotalSteps</th>\n",
       "      <th>TotalDistance</th>\n",
       "      <th>TrackerDistance</th>\n",
       "      <th>LoggedActivitiesDistance</th>\n",
       "      <th>VeryActiveDistance</th>\n",
       "      <th>ModeratelyActiveDistance</th>\n",
       "      <th>LightActiveDistance</th>\n",
       "      <th>SedentaryActiveDistance</th>\n",
       "      <th>VeryActiveMinutes</th>\n",
       "      <th>FairlyActiveMinutes</th>\n",
       "      <th>LightlyActiveMinutes</th>\n",
       "      <th>SedentaryMinutes</th>\n",
       "      <th>Calories</th>\n",
       "    </tr>\n",
       "  </thead>\n",
       "  <tbody>\n",
       "    <tr>\n",
       "      <th>0</th>\n",
       "      <td>1503960366</td>\n",
       "      <td>4/12/2016</td>\n",
       "      <td>13162</td>\n",
       "      <td>8.50</td>\n",
       "      <td>8.50</td>\n",
       "      <td>0.0</td>\n",
       "      <td>1.88</td>\n",
       "      <td>0.55</td>\n",
       "      <td>6.06</td>\n",
       "      <td>0.0</td>\n",
       "      <td>25</td>\n",
       "      <td>13</td>\n",
       "      <td>328</td>\n",
       "      <td>728</td>\n",
       "      <td>1985</td>\n",
       "    </tr>\n",
       "    <tr>\n",
       "      <th>1</th>\n",
       "      <td>1503960366</td>\n",
       "      <td>4/13/2016</td>\n",
       "      <td>10735</td>\n",
       "      <td>6.97</td>\n",
       "      <td>6.97</td>\n",
       "      <td>0.0</td>\n",
       "      <td>1.57</td>\n",
       "      <td>0.69</td>\n",
       "      <td>4.71</td>\n",
       "      <td>0.0</td>\n",
       "      <td>21</td>\n",
       "      <td>19</td>\n",
       "      <td>217</td>\n",
       "      <td>776</td>\n",
       "      <td>1797</td>\n",
       "    </tr>\n",
       "    <tr>\n",
       "      <th>2</th>\n",
       "      <td>1503960366</td>\n",
       "      <td>4/14/2016</td>\n",
       "      <td>10460</td>\n",
       "      <td>6.74</td>\n",
       "      <td>6.74</td>\n",
       "      <td>0.0</td>\n",
       "      <td>2.44</td>\n",
       "      <td>0.40</td>\n",
       "      <td>3.91</td>\n",
       "      <td>0.0</td>\n",
       "      <td>30</td>\n",
       "      <td>11</td>\n",
       "      <td>181</td>\n",
       "      <td>1218</td>\n",
       "      <td>1776</td>\n",
       "    </tr>\n",
       "    <tr>\n",
       "      <th>3</th>\n",
       "      <td>1503960366</td>\n",
       "      <td>4/15/2016</td>\n",
       "      <td>9762</td>\n",
       "      <td>6.28</td>\n",
       "      <td>6.28</td>\n",
       "      <td>0.0</td>\n",
       "      <td>2.14</td>\n",
       "      <td>1.26</td>\n",
       "      <td>2.83</td>\n",
       "      <td>0.0</td>\n",
       "      <td>29</td>\n",
       "      <td>34</td>\n",
       "      <td>209</td>\n",
       "      <td>726</td>\n",
       "      <td>1745</td>\n",
       "    </tr>\n",
       "    <tr>\n",
       "      <th>4</th>\n",
       "      <td>1503960366</td>\n",
       "      <td>4/16/2016</td>\n",
       "      <td>12669</td>\n",
       "      <td>8.16</td>\n",
       "      <td>8.16</td>\n",
       "      <td>0.0</td>\n",
       "      <td>2.71</td>\n",
       "      <td>0.41</td>\n",
       "      <td>5.04</td>\n",
       "      <td>0.0</td>\n",
       "      <td>36</td>\n",
       "      <td>10</td>\n",
       "      <td>221</td>\n",
       "      <td>773</td>\n",
       "      <td>1863</td>\n",
       "    </tr>\n",
       "  </tbody>\n",
       "</table>\n",
       "</div>"
      ],
      "text/plain": [
       "           Id ActivityDate  TotalSteps  TotalDistance  TrackerDistance  \\\n",
       "0  1503960366    4/12/2016       13162           8.50             8.50   \n",
       "1  1503960366    4/13/2016       10735           6.97             6.97   \n",
       "2  1503960366    4/14/2016       10460           6.74             6.74   \n",
       "3  1503960366    4/15/2016        9762           6.28             6.28   \n",
       "4  1503960366    4/16/2016       12669           8.16             8.16   \n",
       "\n",
       "   LoggedActivitiesDistance  VeryActiveDistance  ModeratelyActiveDistance  \\\n",
       "0                       0.0                1.88                      0.55   \n",
       "1                       0.0                1.57                      0.69   \n",
       "2                       0.0                2.44                      0.40   \n",
       "3                       0.0                2.14                      1.26   \n",
       "4                       0.0                2.71                      0.41   \n",
       "\n",
       "   LightActiveDistance  SedentaryActiveDistance  VeryActiveMinutes  \\\n",
       "0                 6.06                      0.0                 25   \n",
       "1                 4.71                      0.0                 21   \n",
       "2                 3.91                      0.0                 30   \n",
       "3                 2.83                      0.0                 29   \n",
       "4                 5.04                      0.0                 36   \n",
       "\n",
       "   FairlyActiveMinutes  LightlyActiveMinutes  SedentaryMinutes  Calories  \n",
       "0                   13                   328               728      1985  \n",
       "1                   19                   217               776      1797  \n",
       "2                   11                   181              1218      1776  \n",
       "3                   34                   209               726      1745  \n",
       "4                   10                   221               773      1863  "
      ]
     },
     "execution_count": 3,
     "metadata": {},
     "output_type": "execute_result"
    }
   ],
   "source": [
    "daily_activity.head()"
   ]
  },
  {
   "cell_type": "markdown",
   "id": "559f22b9",
   "metadata": {},
   "source": [
    "Seeing that everything looks good, I moved on to the hourly steps data."
   ]
  },
  {
   "cell_type": "code",
   "execution_count": 4,
   "id": "bf205302",
   "metadata": {
    "scrolled": true
   },
   "outputs": [
    {
     "data": {
      "text/html": [
       "<div>\n",
       "<style scoped>\n",
       "    .dataframe tbody tr th:only-of-type {\n",
       "        vertical-align: middle;\n",
       "    }\n",
       "\n",
       "    .dataframe tbody tr th {\n",
       "        vertical-align: top;\n",
       "    }\n",
       "\n",
       "    .dataframe thead th {\n",
       "        text-align: right;\n",
       "    }\n",
       "</style>\n",
       "<table border=\"1\" class=\"dataframe\">\n",
       "  <thead>\n",
       "    <tr style=\"text-align: right;\">\n",
       "      <th></th>\n",
       "      <th>Id</th>\n",
       "      <th>ActivityHour</th>\n",
       "      <th>StepTotal</th>\n",
       "    </tr>\n",
       "  </thead>\n",
       "  <tbody>\n",
       "    <tr>\n",
       "      <th>0</th>\n",
       "      <td>1503960366</td>\n",
       "      <td>4/12/2016 12:00:00 AM</td>\n",
       "      <td>373</td>\n",
       "    </tr>\n",
       "    <tr>\n",
       "      <th>1</th>\n",
       "      <td>1503960366</td>\n",
       "      <td>4/12/2016 1:00:00 AM</td>\n",
       "      <td>160</td>\n",
       "    </tr>\n",
       "    <tr>\n",
       "      <th>2</th>\n",
       "      <td>1503960366</td>\n",
       "      <td>4/12/2016 2:00:00 AM</td>\n",
       "      <td>151</td>\n",
       "    </tr>\n",
       "    <tr>\n",
       "      <th>3</th>\n",
       "      <td>1503960366</td>\n",
       "      <td>4/12/2016 3:00:00 AM</td>\n",
       "      <td>0</td>\n",
       "    </tr>\n",
       "    <tr>\n",
       "      <th>4</th>\n",
       "      <td>1503960366</td>\n",
       "      <td>4/12/2016 4:00:00 AM</td>\n",
       "      <td>0</td>\n",
       "    </tr>\n",
       "  </tbody>\n",
       "</table>\n",
       "</div>"
      ],
      "text/plain": [
       "           Id           ActivityHour  StepTotal\n",
       "0  1503960366  4/12/2016 12:00:00 AM        373\n",
       "1  1503960366   4/12/2016 1:00:00 AM        160\n",
       "2  1503960366   4/12/2016 2:00:00 AM        151\n",
       "3  1503960366   4/12/2016 3:00:00 AM          0\n",
       "4  1503960366   4/12/2016 4:00:00 AM          0"
      ]
     },
     "execution_count": 4,
     "metadata": {},
     "output_type": "execute_result"
    }
   ],
   "source": [
    "hourly_steps.head()"
   ]
  },
  {
   "cell_type": "markdown",
   "id": "f17bb320",
   "metadata": {},
   "source": [
    "Then, the hourly calories data."
   ]
  },
  {
   "cell_type": "code",
   "execution_count": 5,
   "id": "18687dd9",
   "metadata": {
    "scrolled": false
   },
   "outputs": [
    {
     "data": {
      "text/html": [
       "<div>\n",
       "<style scoped>\n",
       "    .dataframe tbody tr th:only-of-type {\n",
       "        vertical-align: middle;\n",
       "    }\n",
       "\n",
       "    .dataframe tbody tr th {\n",
       "        vertical-align: top;\n",
       "    }\n",
       "\n",
       "    .dataframe thead th {\n",
       "        text-align: right;\n",
       "    }\n",
       "</style>\n",
       "<table border=\"1\" class=\"dataframe\">\n",
       "  <thead>\n",
       "    <tr style=\"text-align: right;\">\n",
       "      <th></th>\n",
       "      <th>Id</th>\n",
       "      <th>ActivityHour</th>\n",
       "      <th>Calories</th>\n",
       "    </tr>\n",
       "  </thead>\n",
       "  <tbody>\n",
       "    <tr>\n",
       "      <th>0</th>\n",
       "      <td>1503960366</td>\n",
       "      <td>4/12/2016 12:00:00 AM</td>\n",
       "      <td>81</td>\n",
       "    </tr>\n",
       "    <tr>\n",
       "      <th>1</th>\n",
       "      <td>1503960366</td>\n",
       "      <td>4/12/2016 1:00:00 AM</td>\n",
       "      <td>61</td>\n",
       "    </tr>\n",
       "    <tr>\n",
       "      <th>2</th>\n",
       "      <td>1503960366</td>\n",
       "      <td>4/12/2016 2:00:00 AM</td>\n",
       "      <td>59</td>\n",
       "    </tr>\n",
       "    <tr>\n",
       "      <th>3</th>\n",
       "      <td>1503960366</td>\n",
       "      <td>4/12/2016 3:00:00 AM</td>\n",
       "      <td>47</td>\n",
       "    </tr>\n",
       "    <tr>\n",
       "      <th>4</th>\n",
       "      <td>1503960366</td>\n",
       "      <td>4/12/2016 4:00:00 AM</td>\n",
       "      <td>48</td>\n",
       "    </tr>\n",
       "  </tbody>\n",
       "</table>\n",
       "</div>"
      ],
      "text/plain": [
       "           Id           ActivityHour  Calories\n",
       "0  1503960366  4/12/2016 12:00:00 AM        81\n",
       "1  1503960366   4/12/2016 1:00:00 AM        61\n",
       "2  1503960366   4/12/2016 2:00:00 AM        59\n",
       "3  1503960366   4/12/2016 3:00:00 AM        47\n",
       "4  1503960366   4/12/2016 4:00:00 AM        48"
      ]
     },
     "execution_count": 5,
     "metadata": {},
     "output_type": "execute_result"
    }
   ],
   "source": [
    "hourly_calories.head()"
   ]
  },
  {
   "cell_type": "markdown",
   "id": "7c78738b",
   "metadata": {},
   "source": [
    "And finally, the sleepday data."
   ]
  },
  {
   "cell_type": "code",
   "execution_count": 6,
   "id": "97858fc7",
   "metadata": {
    "scrolled": false
   },
   "outputs": [
    {
     "data": {
      "text/html": [
       "<div>\n",
       "<style scoped>\n",
       "    .dataframe tbody tr th:only-of-type {\n",
       "        vertical-align: middle;\n",
       "    }\n",
       "\n",
       "    .dataframe tbody tr th {\n",
       "        vertical-align: top;\n",
       "    }\n",
       "\n",
       "    .dataframe thead th {\n",
       "        text-align: right;\n",
       "    }\n",
       "</style>\n",
       "<table border=\"1\" class=\"dataframe\">\n",
       "  <thead>\n",
       "    <tr style=\"text-align: right;\">\n",
       "      <th></th>\n",
       "      <th>Id</th>\n",
       "      <th>SleepDay</th>\n",
       "      <th>TotalSleepRecords</th>\n",
       "      <th>TotalMinutesAsleep</th>\n",
       "      <th>TotalTimeInBed</th>\n",
       "    </tr>\n",
       "  </thead>\n",
       "  <tbody>\n",
       "    <tr>\n",
       "      <th>0</th>\n",
       "      <td>1503960366</td>\n",
       "      <td>4/12/2016 12:00:00 AM</td>\n",
       "      <td>1</td>\n",
       "      <td>327</td>\n",
       "      <td>346</td>\n",
       "    </tr>\n",
       "    <tr>\n",
       "      <th>1</th>\n",
       "      <td>1503960366</td>\n",
       "      <td>4/13/2016 12:00:00 AM</td>\n",
       "      <td>2</td>\n",
       "      <td>384</td>\n",
       "      <td>407</td>\n",
       "    </tr>\n",
       "    <tr>\n",
       "      <th>2</th>\n",
       "      <td>1503960366</td>\n",
       "      <td>4/15/2016 12:00:00 AM</td>\n",
       "      <td>1</td>\n",
       "      <td>412</td>\n",
       "      <td>442</td>\n",
       "    </tr>\n",
       "    <tr>\n",
       "      <th>3</th>\n",
       "      <td>1503960366</td>\n",
       "      <td>4/16/2016 12:00:00 AM</td>\n",
       "      <td>2</td>\n",
       "      <td>340</td>\n",
       "      <td>367</td>\n",
       "    </tr>\n",
       "    <tr>\n",
       "      <th>4</th>\n",
       "      <td>1503960366</td>\n",
       "      <td>4/17/2016 12:00:00 AM</td>\n",
       "      <td>1</td>\n",
       "      <td>700</td>\n",
       "      <td>712</td>\n",
       "    </tr>\n",
       "  </tbody>\n",
       "</table>\n",
       "</div>"
      ],
      "text/plain": [
       "           Id               SleepDay  TotalSleepRecords  TotalMinutesAsleep  \\\n",
       "0  1503960366  4/12/2016 12:00:00 AM                  1                 327   \n",
       "1  1503960366  4/13/2016 12:00:00 AM                  2                 384   \n",
       "2  1503960366  4/15/2016 12:00:00 AM                  1                 412   \n",
       "3  1503960366  4/16/2016 12:00:00 AM                  2                 340   \n",
       "4  1503960366  4/17/2016 12:00:00 AM                  1                 700   \n",
       "\n",
       "   TotalTimeInBed  \n",
       "0             346  \n",
       "1             407  \n",
       "2             442  \n",
       "3             367  \n",
       "4             712  "
      ]
     },
     "execution_count": 6,
     "metadata": {},
     "output_type": "execute_result"
    }
   ],
   "source": [
    "sleepday.head()"
   ]
  },
  {
   "cell_type": "markdown",
   "id": "57c11740",
   "metadata": {},
   "source": [
    "### Inspecting the data types\n",
    "\n",
    "Next, I decided to inspect the data types to be sure the columns are stored in the right data type. "
   ]
  },
  {
   "cell_type": "code",
   "execution_count": 7,
   "id": "4f7e01b1",
   "metadata": {
    "scrolled": false
   },
   "outputs": [
    {
     "data": {
      "text/plain": [
       "Id                            int64\n",
       "ActivityDate                 object\n",
       "TotalSteps                    int64\n",
       "TotalDistance               float64\n",
       "TrackerDistance             float64\n",
       "LoggedActivitiesDistance    float64\n",
       "VeryActiveDistance          float64\n",
       "ModeratelyActiveDistance    float64\n",
       "LightActiveDistance         float64\n",
       "SedentaryActiveDistance     float64\n",
       "VeryActiveMinutes             int64\n",
       "FairlyActiveMinutes           int64\n",
       "LightlyActiveMinutes          int64\n",
       "SedentaryMinutes              int64\n",
       "Calories                      int64\n",
       "dtype: object"
      ]
     },
     "execution_count": 7,
     "metadata": {},
     "output_type": "execute_result"
    }
   ],
   "source": [
    "daily_activity.dtypes"
   ]
  },
  {
   "cell_type": "markdown",
   "id": "3a97ac8a",
   "metadata": {},
   "source": [
    "After running the daily activity data, I noticed that every other column are in the right data type except for the ActivityDate that is in the **object** format instead of **datetime** format. I took note of that so that I can remember to fix it when I'm manipulating the data."
   ]
  },
  {
   "cell_type": "code",
   "execution_count": 8,
   "id": "706604da",
   "metadata": {
    "scrolled": true
   },
   "outputs": [
    {
     "data": {
      "text/plain": [
       "Id               int64\n",
       "ActivityHour    object\n",
       "StepTotal        int64\n",
       "dtype: object"
      ]
     },
     "execution_count": 8,
     "metadata": {},
     "output_type": "execute_result"
    }
   ],
   "source": [
    "hourly_steps.dtypes"
   ]
  },
  {
   "cell_type": "markdown",
   "id": "85d50f2c",
   "metadata": {},
   "source": [
    "Here, the ActivityHour is also an **object** instead of a **datetime** data type."
   ]
  },
  {
   "cell_type": "code",
   "execution_count": 9,
   "id": "d0c8a4d3",
   "metadata": {
    "scrolled": false
   },
   "outputs": [
    {
     "data": {
      "text/plain": [
       "Id               int64\n",
       "ActivityHour    object\n",
       "Calories         int64\n",
       "dtype: object"
      ]
     },
     "execution_count": 9,
     "metadata": {},
     "output_type": "execute_result"
    }
   ],
   "source": [
    "hourly_calories.dtypes"
   ]
  },
  {
   "cell_type": "markdown",
   "id": "d4116879",
   "metadata": {},
   "source": [
    "Same here. The ActivityHour is an **object**"
   ]
  },
  {
   "cell_type": "code",
   "execution_count": 10,
   "id": "8aa308ab",
   "metadata": {
    "scrolled": false
   },
   "outputs": [
    {
     "data": {
      "text/plain": [
       "Id                     int64\n",
       "SleepDay              object\n",
       "TotalSleepRecords      int64\n",
       "TotalMinutesAsleep     int64\n",
       "TotalTimeInBed         int64\n",
       "dtype: object"
      ]
     },
     "execution_count": 10,
     "metadata": {},
     "output_type": "execute_result"
    }
   ],
   "source": [
    "sleepday.dtypes"
   ]
  },
  {
   "cell_type": "markdown",
   "id": "afd995a5",
   "metadata": {},
   "source": [
    "SleepDay is also an **object** isntead of a **datetime** datatype. I will revisit them when transforming the data so that it will be easy to perform calculations with them.\n",
    "\n",
    "### Checking for Unique Users\n",
    "\n",
    "Next, I checked to see the number of users in each dataset to see if it meets the minimum sample size."
   ]
  },
  {
   "cell_type": "code",
   "execution_count": 11,
   "id": "b83cdad6",
   "metadata": {},
   "outputs": [
    {
     "data": {
      "text/plain": [
       "33"
      ]
     },
     "execution_count": 11,
     "metadata": {},
     "output_type": "execute_result"
    }
   ],
   "source": [
    "daily_activity.Id.nunique()"
   ]
  },
  {
   "cell_type": "code",
   "execution_count": 12,
   "id": "a65e0943",
   "metadata": {},
   "outputs": [
    {
     "data": {
      "text/plain": [
       "33"
      ]
     },
     "execution_count": 12,
     "metadata": {},
     "output_type": "execute_result"
    }
   ],
   "source": [
    "hourly_steps.Id.nunique()"
   ]
  },
  {
   "cell_type": "code",
   "execution_count": 13,
   "id": "4d50aab9",
   "metadata": {
    "scrolled": true
   },
   "outputs": [
    {
     "data": {
      "text/plain": [
       "33"
      ]
     },
     "execution_count": 13,
     "metadata": {},
     "output_type": "execute_result"
    }
   ],
   "source": [
    "hourly_calories.Id.nunique()"
   ]
  },
  {
   "cell_type": "code",
   "execution_count": 14,
   "id": "fb1fe2e7",
   "metadata": {},
   "outputs": [
    {
     "data": {
      "text/plain": [
       "24"
      ]
     },
     "execution_count": 14,
     "metadata": {},
     "output_type": "execute_result"
    }
   ],
   "source": [
    "sleepday.Id.nunique() "
   ]
  },
  {
   "cell_type": "markdown",
   "id": "51010b64",
   "metadata": {},
   "source": [
    "I observed that only 24 Ids were recorded in the sleepday dataset. Hence, it did not meet the minimum sample size. So, I decided to take it out as this could lead to some bias in my analysis.\n",
    "\n",
    "### Checking the number of columns and rows\n",
    "Next I checked to see the number of rows and columns in each dataset. "
   ]
  },
  {
   "cell_type": "code",
   "execution_count": 15,
   "id": "c19e641c",
   "metadata": {},
   "outputs": [
    {
     "data": {
      "text/plain": [
       "(940, 15)"
      ]
     },
     "execution_count": 15,
     "metadata": {},
     "output_type": "execute_result"
    }
   ],
   "source": [
    "daily_activity.shape"
   ]
  },
  {
   "cell_type": "code",
   "execution_count": 16,
   "id": "c90874e8",
   "metadata": {},
   "outputs": [
    {
     "data": {
      "text/plain": [
       "(22099, 3)"
      ]
     },
     "execution_count": 16,
     "metadata": {},
     "output_type": "execute_result"
    }
   ],
   "source": [
    "hourly_steps.shape"
   ]
  },
  {
   "cell_type": "code",
   "execution_count": 17,
   "id": "13ff5906",
   "metadata": {},
   "outputs": [
    {
     "data": {
      "text/plain": [
       "(22099, 3)"
      ]
     },
     "execution_count": 17,
     "metadata": {},
     "output_type": "execute_result"
    }
   ],
   "source": [
    "hourly_calories.shape"
   ]
  },
  {
   "cell_type": "markdown",
   "id": "4310f9fe",
   "metadata": {},
   "source": [
    "The daily activity data contains 940 rows and 15 columns. The hourly steps and hourly calories contains thesame number of rows and columns. This will make it easier when merging both datasets.\n",
    "\n",
    "### Data Cleaning\n",
    "\n",
    "#### Checking for Empty cells\n",
    "I started the cleaning process by checking if there are empty cells in each of the dataset."
   ]
  },
  {
   "cell_type": "code",
   "execution_count": 18,
   "id": "e15d7773",
   "metadata": {
    "scrolled": true
   },
   "outputs": [
    {
     "data": {
      "text/plain": [
       "Id                          False\n",
       "ActivityDate                False\n",
       "TotalSteps                  False\n",
       "TotalDistance               False\n",
       "TrackerDistance             False\n",
       "LoggedActivitiesDistance    False\n",
       "VeryActiveDistance          False\n",
       "ModeratelyActiveDistance    False\n",
       "LightActiveDistance         False\n",
       "SedentaryActiveDistance     False\n",
       "VeryActiveMinutes           False\n",
       "FairlyActiveMinutes         False\n",
       "LightlyActiveMinutes        False\n",
       "SedentaryMinutes            False\n",
       "Calories                    False\n",
       "dtype: bool"
      ]
     },
     "execution_count": 18,
     "metadata": {},
     "output_type": "execute_result"
    }
   ],
   "source": [
    "daily_activity.isnull().any()"
   ]
  },
  {
   "cell_type": "code",
   "execution_count": 19,
   "id": "4cada2a9",
   "metadata": {
    "scrolled": true
   },
   "outputs": [
    {
     "data": {
      "text/plain": [
       "Id              False\n",
       "ActivityHour    False\n",
       "StepTotal       False\n",
       "dtype: bool"
      ]
     },
     "execution_count": 19,
     "metadata": {},
     "output_type": "execute_result"
    }
   ],
   "source": [
    "hourly_steps.isnull().any()"
   ]
  },
  {
   "cell_type": "code",
   "execution_count": 20,
   "id": "0ac31c2e",
   "metadata": {
    "scrolled": false
   },
   "outputs": [
    {
     "data": {
      "text/plain": [
       "Id              False\n",
       "ActivityHour    False\n",
       "Calories        False\n",
       "dtype: bool"
      ]
     },
     "execution_count": 20,
     "metadata": {},
     "output_type": "execute_result"
    }
   ],
   "source": [
    "hourly_calories.isnull().any()"
   ]
  },
  {
   "cell_type": "markdown",
   "id": "b3faae5e",
   "metadata": {},
   "source": [
    "There are **no** empty cells in all three datasets.\n",
    "\n",
    "#### Checking for duplicates\n",
    "Next I checked if there are duplicates in the dataset."
   ]
  },
  {
   "cell_type": "code",
   "execution_count": 21,
   "id": "be51893b",
   "metadata": {},
   "outputs": [
    {
     "data": {
      "text/plain": [
       "0      False\n",
       "1      False\n",
       "2      False\n",
       "3      False\n",
       "4      False\n",
       "       ...  \n",
       "935    False\n",
       "936    False\n",
       "937    False\n",
       "938    False\n",
       "939    False\n",
       "Length: 940, dtype: bool"
      ]
     },
     "execution_count": 21,
     "metadata": {},
     "output_type": "execute_result"
    }
   ],
   "source": [
    "daily_activity.duplicated()"
   ]
  },
  {
   "cell_type": "code",
   "execution_count": 22,
   "id": "806b762c",
   "metadata": {},
   "outputs": [
    {
     "data": {
      "text/plain": [
       "0        False\n",
       "1        False\n",
       "2        False\n",
       "3        False\n",
       "4        False\n",
       "         ...  \n",
       "22094    False\n",
       "22095    False\n",
       "22096    False\n",
       "22097    False\n",
       "22098    False\n",
       "Length: 22099, dtype: bool"
      ]
     },
     "execution_count": 22,
     "metadata": {},
     "output_type": "execute_result"
    }
   ],
   "source": [
    "hourly_steps.duplicated()"
   ]
  },
  {
   "cell_type": "code",
   "execution_count": 23,
   "id": "28096f41",
   "metadata": {
    "scrolled": false
   },
   "outputs": [
    {
     "data": {
      "text/plain": [
       "0        False\n",
       "1        False\n",
       "2        False\n",
       "3        False\n",
       "4        False\n",
       "         ...  \n",
       "22094    False\n",
       "22095    False\n",
       "22096    False\n",
       "22097    False\n",
       "22098    False\n",
       "Length: 22099, dtype: bool"
      ]
     },
     "execution_count": 23,
     "metadata": {},
     "output_type": "execute_result"
    }
   ],
   "source": [
    "hourly_calories.duplicated()"
   ]
  },
  {
   "cell_type": "markdown",
   "id": "ffa6b8b9",
   "metadata": {},
   "source": [
    "All came out **false**, meaning there are no duplicated cells. \n",
    "\n",
    "#### Data Transformation\n",
    "\n",
    "As part of making sure that my data is clean and ready for analysis, I decided to transform the ActivityDate and ActivityHour from object data type to datetime type."
   ]
  },
  {
   "cell_type": "code",
   "execution_count": 24,
   "id": "564a5ac1",
   "metadata": {},
   "outputs": [],
   "source": [
    "daily_activity[\"ActivityDate\"] = pd.to_datetime(daily_activity[\"ActivityDate\"])\n",
    "hourly_steps[\"ActivityHour\"] = pd.to_datetime(hourly_calories[\"ActivityHour\"])\n",
    "hourly_calories[\"ActivityHour\"] = pd.to_datetime(hourly_calories[\"ActivityHour\"])"
   ]
  },
  {
   "cell_type": "markdown",
   "id": "a418565c",
   "metadata": {},
   "source": [
    "\n",
    "\n",
    "Next, I ran the info of all the datasets to be sure that they are now in the right data type."
   ]
  },
  {
   "cell_type": "code",
   "execution_count": 25,
   "id": "ab25c422",
   "metadata": {
    "scrolled": false
   },
   "outputs": [
    {
     "name": "stdout",
     "output_type": "stream",
     "text": [
      "<class 'pandas.core.frame.DataFrame'>\n",
      "RangeIndex: 940 entries, 0 to 939\n",
      "Data columns (total 15 columns):\n",
      " #   Column                    Non-Null Count  Dtype         \n",
      "---  ------                    --------------  -----         \n",
      " 0   Id                        940 non-null    int64         \n",
      " 1   ActivityDate              940 non-null    datetime64[ns]\n",
      " 2   TotalSteps                940 non-null    int64         \n",
      " 3   TotalDistance             940 non-null    float64       \n",
      " 4   TrackerDistance           940 non-null    float64       \n",
      " 5   LoggedActivitiesDistance  940 non-null    float64       \n",
      " 6   VeryActiveDistance        940 non-null    float64       \n",
      " 7   ModeratelyActiveDistance  940 non-null    float64       \n",
      " 8   LightActiveDistance       940 non-null    float64       \n",
      " 9   SedentaryActiveDistance   940 non-null    float64       \n",
      " 10  VeryActiveMinutes         940 non-null    int64         \n",
      " 11  FairlyActiveMinutes       940 non-null    int64         \n",
      " 12  LightlyActiveMinutes      940 non-null    int64         \n",
      " 13  SedentaryMinutes          940 non-null    int64         \n",
      " 14  Calories                  940 non-null    int64         \n",
      "dtypes: datetime64[ns](1), float64(7), int64(7)\n",
      "memory usage: 110.3 KB\n"
     ]
    }
   ],
   "source": [
    "daily_activity.info()"
   ]
  },
  {
   "cell_type": "markdown",
   "id": "7c91770a",
   "metadata": {},
   "source": [
    "The ActivityDate is now a datetime data type, which is great. \n",
    "\n",
    "Next, I ran the info of the hourly steps dataset."
   ]
  },
  {
   "cell_type": "code",
   "execution_count": 26,
   "id": "c25150a6",
   "metadata": {
    "scrolled": true
   },
   "outputs": [
    {
     "name": "stdout",
     "output_type": "stream",
     "text": [
      "<class 'pandas.core.frame.DataFrame'>\n",
      "RangeIndex: 22099 entries, 0 to 22098\n",
      "Data columns (total 3 columns):\n",
      " #   Column        Non-Null Count  Dtype         \n",
      "---  ------        --------------  -----         \n",
      " 0   Id            22099 non-null  int64         \n",
      " 1   ActivityHour  22099 non-null  datetime64[ns]\n",
      " 2   StepTotal     22099 non-null  int64         \n",
      "dtypes: datetime64[ns](1), int64(2)\n",
      "memory usage: 518.1 KB\n"
     ]
    }
   ],
   "source": [
    "hourly_steps.info()"
   ]
  },
  {
   "cell_type": "markdown",
   "id": "befb7096",
   "metadata": {},
   "source": [
    "Great! The ActivityHour is also now a **datetime** data type.\n",
    "\n",
    "Finally, I checked the info for hourly calories dataset."
   ]
  },
  {
   "cell_type": "code",
   "execution_count": 27,
   "id": "a8bd1c32",
   "metadata": {},
   "outputs": [
    {
     "name": "stdout",
     "output_type": "stream",
     "text": [
      "<class 'pandas.core.frame.DataFrame'>\n",
      "RangeIndex: 22099 entries, 0 to 22098\n",
      "Data columns (total 3 columns):\n",
      " #   Column        Non-Null Count  Dtype         \n",
      "---  ------        --------------  -----         \n",
      " 0   Id            22099 non-null  int64         \n",
      " 1   ActivityHour  22099 non-null  datetime64[ns]\n",
      " 2   Calories      22099 non-null  int64         \n",
      "dtypes: datetime64[ns](1), int64(2)\n",
      "memory usage: 518.1 KB\n"
     ]
    }
   ],
   "source": [
    "hourly_calories.info()"
   ]
  },
  {
   "cell_type": "markdown",
   "id": "35cec91c",
   "metadata": {},
   "source": [
    "Here, the ActivityHour is also now a datetime datatype. \n",
    "\n",
    "## <span style=\"color:#ed7674\">4. ANALYZE</span>\n",
    "Now that my data is clean, it's time to analyze the data for insights.  \n",
    "\n",
    "### Creating New Columns\n",
    "\n",
    "To make the analysis process smooth, I started by creating a new column (**WeekDay**) for the days of the week in the datasets. From the daily activity dataset, I created WeekDay from the ActivityDate, and from the hourly steps, I created WeekDay from the ActivityHour."
   ]
  },
  {
   "cell_type": "code",
   "execution_count": 28,
   "id": "7c58a99a",
   "metadata": {},
   "outputs": [],
   "source": [
    "daily_activity[\"WeekDay\"] = daily_activity[\"ActivityDate\"].dt.day_name()\n",
    "hourly_steps[\"WeekDay\"] = hourly_steps[\"ActivityHour\"].dt.day_name()"
   ]
  },
  {
   "cell_type": "markdown",
   "id": "e4df3bc3",
   "metadata": {},
   "source": [
    "Next, I checked to see if the column WeekDay has being created and that it is displaying correctly."
   ]
  },
  {
   "cell_type": "code",
   "execution_count": 29,
   "id": "cbcf1856",
   "metadata": {
    "scrolled": false
   },
   "outputs": [
    {
     "data": {
      "text/plain": [
       "0      Tuesday\n",
       "1    Wednesday\n",
       "2     Thursday\n",
       "3       Friday\n",
       "4     Saturday\n",
       "Name: WeekDay, dtype: object"
      ]
     },
     "execution_count": 29,
     "metadata": {},
     "output_type": "execute_result"
    }
   ],
   "source": [
    "daily_activity[\"WeekDay\"].head()"
   ]
  },
  {
   "cell_type": "code",
   "execution_count": 30,
   "id": "3308b879",
   "metadata": {
    "scrolled": true
   },
   "outputs": [
    {
     "data": {
      "text/plain": [
       "0    Tuesday\n",
       "1    Tuesday\n",
       "2    Tuesday\n",
       "3    Tuesday\n",
       "4    Tuesday\n",
       "Name: WeekDay, dtype: object"
      ]
     },
     "execution_count": 30,
     "metadata": {},
     "output_type": "execute_result"
    }
   ],
   "source": [
    "hourly_steps[\"WeekDay\"].head()"
   ]
  },
  {
   "cell_type": "markdown",
   "id": "5a14b7ea",
   "metadata": {},
   "source": [
    "Seeing that a new colum (**WeekDay**) has been created. I also decided to create 2 additional columns(**TotalActiveMinutes** and **TotalMinutes**) for Daily Activity dataset."
   ]
  },
  {
   "cell_type": "code",
   "execution_count": 31,
   "id": "28dac23b",
   "metadata": {},
   "outputs": [],
   "source": [
    "new_cols = [\"Id\", \"ActivityDate\", \"WeekDay\", \"TotalSteps\", \"TotalDistance\", \"VeryActiveDistance\", \"ModeratelyActiveDistance\", \"LightActiveDistance\", \"SedentaryActiveDistance\", \"VeryActiveMinutes\", \"FairlyActiveMinutes\", \"LightlyActiveMinutes\", \"SedentaryMinutes\", \"TotalActiveMinutes\", \"TotalMinutes\", \"Calories\"]\n",
    "\n",
    "daily_activity = daily_activity.reindex(columns=new_cols)\n",
    "\n"
   ]
  },
  {
   "cell_type": "markdown",
   "id": "d260ac92",
   "metadata": {},
   "source": [
    "Then I called the columns to see if they have been created."
   ]
  },
  {
   "cell_type": "code",
   "execution_count": 32,
   "id": "8ff90a63",
   "metadata": {
    "scrolled": false
   },
   "outputs": [
    {
     "data": {
      "text/html": [
       "<div>\n",
       "<style scoped>\n",
       "    .dataframe tbody tr th:only-of-type {\n",
       "        vertical-align: middle;\n",
       "    }\n",
       "\n",
       "    .dataframe tbody tr th {\n",
       "        vertical-align: top;\n",
       "    }\n",
       "\n",
       "    .dataframe thead th {\n",
       "        text-align: right;\n",
       "    }\n",
       "</style>\n",
       "<table border=\"1\" class=\"dataframe\">\n",
       "  <thead>\n",
       "    <tr style=\"text-align: right;\">\n",
       "      <th></th>\n",
       "      <th>TotalActiveMinutes</th>\n",
       "      <th>TotalMinutes</th>\n",
       "    </tr>\n",
       "  </thead>\n",
       "  <tbody>\n",
       "    <tr>\n",
       "      <th>0</th>\n",
       "      <td>NaN</td>\n",
       "      <td>NaN</td>\n",
       "    </tr>\n",
       "    <tr>\n",
       "      <th>1</th>\n",
       "      <td>NaN</td>\n",
       "      <td>NaN</td>\n",
       "    </tr>\n",
       "    <tr>\n",
       "      <th>2</th>\n",
       "      <td>NaN</td>\n",
       "      <td>NaN</td>\n",
       "    </tr>\n",
       "    <tr>\n",
       "      <th>3</th>\n",
       "      <td>NaN</td>\n",
       "      <td>NaN</td>\n",
       "    </tr>\n",
       "    <tr>\n",
       "      <th>4</th>\n",
       "      <td>NaN</td>\n",
       "      <td>NaN</td>\n",
       "    </tr>\n",
       "  </tbody>\n",
       "</table>\n",
       "</div>"
      ],
      "text/plain": [
       "   TotalActiveMinutes  TotalMinutes\n",
       "0                 NaN           NaN\n",
       "1                 NaN           NaN\n",
       "2                 NaN           NaN\n",
       "3                 NaN           NaN\n",
       "4                 NaN           NaN"
      ]
     },
     "execution_count": 32,
     "metadata": {},
     "output_type": "execute_result"
    }
   ],
   "source": [
    "daily_activity[[\"TotalActiveMinutes\", \"TotalMinutes\"]].head()"
   ]
  },
  {
   "cell_type": "markdown",
   "id": "2d953702",
   "metadata": {},
   "source": [
    "Awesome! The **TotalActiveMinutes** and **TotalMinutes** columns have been created, but they currently don't have any values since they have not been created. \n",
    "\n",
    "For the **TotalActiveMinutes**, I created the value by by summing up all the active minutes i.e \n",
    "VeryActiveMinutes, FairlyActiveMinutes, and LightActiveMinutes and for the **TotalMinutes**, I summed up the total active minutes and the sedentary minutes."
   ]
  },
  {
   "cell_type": "code",
   "execution_count": 33,
   "id": "a88b08f4",
   "metadata": {},
   "outputs": [],
   "source": [
    "daily_activity[\"TotalActiveMinutes\"] = daily_activity[\"VeryActiveMinutes\"] + daily_activity[\"FairlyActiveMinutes\"] + daily_activity[\"LightlyActiveMinutes\"]\n",
    "daily_activity[\"TotalMinutes\"] = daily_activity[\"VeryActiveMinutes\"] + daily_activity[\"FairlyActiveMinutes\"] + daily_activity[\"LightlyActiveMinutes\"] + daily_activity[\"SedentaryMinutes\"]\n",
    "               \n",
    "               "
   ]
  },
  {
   "cell_type": "markdown",
   "id": "e5044d8c",
   "metadata": {},
   "source": [
    "Then I checked to see if we now have values for TotalActiveMinutes and TotalMinutes. "
   ]
  },
  {
   "cell_type": "code",
   "execution_count": 34,
   "id": "4daacc31",
   "metadata": {
    "scrolled": true
   },
   "outputs": [
    {
     "data": {
      "text/html": [
       "<div>\n",
       "<style scoped>\n",
       "    .dataframe tbody tr th:only-of-type {\n",
       "        vertical-align: middle;\n",
       "    }\n",
       "\n",
       "    .dataframe tbody tr th {\n",
       "        vertical-align: top;\n",
       "    }\n",
       "\n",
       "    .dataframe thead th {\n",
       "        text-align: right;\n",
       "    }\n",
       "</style>\n",
       "<table border=\"1\" class=\"dataframe\">\n",
       "  <thead>\n",
       "    <tr style=\"text-align: right;\">\n",
       "      <th></th>\n",
       "      <th>TotalActiveMinutes</th>\n",
       "      <th>TotalMinutes</th>\n",
       "    </tr>\n",
       "  </thead>\n",
       "  <tbody>\n",
       "    <tr>\n",
       "      <th>0</th>\n",
       "      <td>366</td>\n",
       "      <td>1094</td>\n",
       "    </tr>\n",
       "    <tr>\n",
       "      <th>1</th>\n",
       "      <td>257</td>\n",
       "      <td>1033</td>\n",
       "    </tr>\n",
       "    <tr>\n",
       "      <th>2</th>\n",
       "      <td>222</td>\n",
       "      <td>1440</td>\n",
       "    </tr>\n",
       "    <tr>\n",
       "      <th>3</th>\n",
       "      <td>272</td>\n",
       "      <td>998</td>\n",
       "    </tr>\n",
       "    <tr>\n",
       "      <th>4</th>\n",
       "      <td>267</td>\n",
       "      <td>1040</td>\n",
       "    </tr>\n",
       "  </tbody>\n",
       "</table>\n",
       "</div>"
      ],
      "text/plain": [
       "   TotalActiveMinutes  TotalMinutes\n",
       "0                 366          1094\n",
       "1                 257          1033\n",
       "2                 222          1440\n",
       "3                 272           998\n",
       "4                 267          1040"
      ]
     },
     "execution_count": 34,
     "metadata": {},
     "output_type": "execute_result"
    }
   ],
   "source": [
    "daily_activity[[\"TotalActiveMinutes\", \"TotalMinutes\"]].head()"
   ]
  },
  {
   "cell_type": "markdown",
   "id": "3037ec2f",
   "metadata": {},
   "source": [
    "Seeing that I now have values for the TotalActiveMinutes and TotalMinutes, I went on to create values for the TotalActiveHour. To do this, I simply divided TotalActiveMinutes by 60."
   ]
  },
  {
   "cell_type": "code",
   "execution_count": 35,
   "id": "328ed198",
   "metadata": {
    "scrolled": true
   },
   "outputs": [
    {
     "data": {
      "text/plain": [
       "0    6.0\n",
       "1    4.0\n",
       "2    4.0\n",
       "3    5.0\n",
       "4    4.0\n",
       "Name: TotalActiveHours, dtype: float64"
      ]
     },
     "execution_count": 35,
     "metadata": {},
     "output_type": "execute_result"
    }
   ],
   "source": [
    "daily_activity[\"TotalActiveHours\"] = round(daily_activity[\"TotalActiveMinutes\"] / 60)\n",
    "daily_activity[\"TotalActiveHours\"].head()\n"
   ]
  },
  {
   "cell_type": "markdown",
   "id": "5263c1e5",
   "metadata": {},
   "source": [
    "Now the values for TotalActiveHours has been created. \n",
    "\n",
    "### Merging Hourly Calories and Hourly Steps Dataset\n",
    "Next, I decided to merge the hourly calories and hourly steps. With this I can have the StepTotal and Calories in one data frame for easy analysis."
   ]
  },
  {
   "cell_type": "code",
   "execution_count": 36,
   "id": "401b5ce5",
   "metadata": {},
   "outputs": [
    {
     "data": {
      "text/html": [
       "<div>\n",
       "<style scoped>\n",
       "    .dataframe tbody tr th:only-of-type {\n",
       "        vertical-align: middle;\n",
       "    }\n",
       "\n",
       "    .dataframe tbody tr th {\n",
       "        vertical-align: top;\n",
       "    }\n",
       "\n",
       "    .dataframe thead th {\n",
       "        text-align: right;\n",
       "    }\n",
       "</style>\n",
       "<table border=\"1\" class=\"dataframe\">\n",
       "  <thead>\n",
       "    <tr style=\"text-align: right;\">\n",
       "      <th></th>\n",
       "      <th>Id</th>\n",
       "      <th>ActivityHour</th>\n",
       "      <th>StepTotal</th>\n",
       "      <th>WeekDay</th>\n",
       "      <th>Calories</th>\n",
       "    </tr>\n",
       "  </thead>\n",
       "  <tbody>\n",
       "    <tr>\n",
       "      <th>0</th>\n",
       "      <td>1503960366</td>\n",
       "      <td>2016-04-12 00:00:00</td>\n",
       "      <td>373</td>\n",
       "      <td>Tuesday</td>\n",
       "      <td>81</td>\n",
       "    </tr>\n",
       "    <tr>\n",
       "      <th>1</th>\n",
       "      <td>1503960366</td>\n",
       "      <td>2016-04-12 01:00:00</td>\n",
       "      <td>160</td>\n",
       "      <td>Tuesday</td>\n",
       "      <td>61</td>\n",
       "    </tr>\n",
       "    <tr>\n",
       "      <th>2</th>\n",
       "      <td>1503960366</td>\n",
       "      <td>2016-04-12 02:00:00</td>\n",
       "      <td>151</td>\n",
       "      <td>Tuesday</td>\n",
       "      <td>59</td>\n",
       "    </tr>\n",
       "    <tr>\n",
       "      <th>3</th>\n",
       "      <td>1503960366</td>\n",
       "      <td>2016-04-12 03:00:00</td>\n",
       "      <td>0</td>\n",
       "      <td>Tuesday</td>\n",
       "      <td>47</td>\n",
       "    </tr>\n",
       "    <tr>\n",
       "      <th>4</th>\n",
       "      <td>1503960366</td>\n",
       "      <td>2016-04-12 04:00:00</td>\n",
       "      <td>0</td>\n",
       "      <td>Tuesday</td>\n",
       "      <td>48</td>\n",
       "    </tr>\n",
       "  </tbody>\n",
       "</table>\n",
       "</div>"
      ],
      "text/plain": [
       "           Id        ActivityHour  StepTotal  WeekDay  Calories\n",
       "0  1503960366 2016-04-12 00:00:00        373  Tuesday        81\n",
       "1  1503960366 2016-04-12 01:00:00        160  Tuesday        61\n",
       "2  1503960366 2016-04-12 02:00:00        151  Tuesday        59\n",
       "3  1503960366 2016-04-12 03:00:00          0  Tuesday        47\n",
       "4  1503960366 2016-04-12 04:00:00          0  Tuesday        48"
      ]
     },
     "execution_count": 36,
     "metadata": {},
     "output_type": "execute_result"
    }
   ],
   "source": [
    "newhour_merged = pd.merge(hourly_steps, hourly_calories, on=[\"Id\", \"ActivityHour\"])\n",
    "newhour_merged.head()\n"
   ]
  },
  {
   "cell_type": "markdown",
   "id": "473f624a",
   "metadata": {},
   "source": [
    "Now that my data is ready for analysis, I called the first 7 rows to have another glance at the dataset, and to be sure that all the columns are displaying correctly. "
   ]
  },
  {
   "cell_type": "code",
   "execution_count": 37,
   "id": "d15eefcd",
   "metadata": {
    "scrolled": false
   },
   "outputs": [
    {
     "data": {
      "text/html": [
       "<div>\n",
       "<style scoped>\n",
       "    .dataframe tbody tr th:only-of-type {\n",
       "        vertical-align: middle;\n",
       "    }\n",
       "\n",
       "    .dataframe tbody tr th {\n",
       "        vertical-align: top;\n",
       "    }\n",
       "\n",
       "    .dataframe thead th {\n",
       "        text-align: right;\n",
       "    }\n",
       "</style>\n",
       "<table border=\"1\" class=\"dataframe\">\n",
       "  <thead>\n",
       "    <tr style=\"text-align: right;\">\n",
       "      <th></th>\n",
       "      <th>Id</th>\n",
       "      <th>ActivityDate</th>\n",
       "      <th>WeekDay</th>\n",
       "      <th>TotalSteps</th>\n",
       "      <th>TotalDistance</th>\n",
       "      <th>VeryActiveDistance</th>\n",
       "      <th>ModeratelyActiveDistance</th>\n",
       "      <th>LightActiveDistance</th>\n",
       "      <th>SedentaryActiveDistance</th>\n",
       "      <th>VeryActiveMinutes</th>\n",
       "      <th>FairlyActiveMinutes</th>\n",
       "      <th>LightlyActiveMinutes</th>\n",
       "      <th>SedentaryMinutes</th>\n",
       "      <th>TotalActiveMinutes</th>\n",
       "      <th>TotalMinutes</th>\n",
       "      <th>Calories</th>\n",
       "      <th>TotalActiveHours</th>\n",
       "    </tr>\n",
       "  </thead>\n",
       "  <tbody>\n",
       "    <tr>\n",
       "      <th>0</th>\n",
       "      <td>1503960366</td>\n",
       "      <td>2016-04-12</td>\n",
       "      <td>Tuesday</td>\n",
       "      <td>13162</td>\n",
       "      <td>8.50</td>\n",
       "      <td>1.88</td>\n",
       "      <td>0.55</td>\n",
       "      <td>6.06</td>\n",
       "      <td>0.0</td>\n",
       "      <td>25</td>\n",
       "      <td>13</td>\n",
       "      <td>328</td>\n",
       "      <td>728</td>\n",
       "      <td>366</td>\n",
       "      <td>1094</td>\n",
       "      <td>1985</td>\n",
       "      <td>6.0</td>\n",
       "    </tr>\n",
       "    <tr>\n",
       "      <th>1</th>\n",
       "      <td>1503960366</td>\n",
       "      <td>2016-04-13</td>\n",
       "      <td>Wednesday</td>\n",
       "      <td>10735</td>\n",
       "      <td>6.97</td>\n",
       "      <td>1.57</td>\n",
       "      <td>0.69</td>\n",
       "      <td>4.71</td>\n",
       "      <td>0.0</td>\n",
       "      <td>21</td>\n",
       "      <td>19</td>\n",
       "      <td>217</td>\n",
       "      <td>776</td>\n",
       "      <td>257</td>\n",
       "      <td>1033</td>\n",
       "      <td>1797</td>\n",
       "      <td>4.0</td>\n",
       "    </tr>\n",
       "    <tr>\n",
       "      <th>2</th>\n",
       "      <td>1503960366</td>\n",
       "      <td>2016-04-14</td>\n",
       "      <td>Thursday</td>\n",
       "      <td>10460</td>\n",
       "      <td>6.74</td>\n",
       "      <td>2.44</td>\n",
       "      <td>0.40</td>\n",
       "      <td>3.91</td>\n",
       "      <td>0.0</td>\n",
       "      <td>30</td>\n",
       "      <td>11</td>\n",
       "      <td>181</td>\n",
       "      <td>1218</td>\n",
       "      <td>222</td>\n",
       "      <td>1440</td>\n",
       "      <td>1776</td>\n",
       "      <td>4.0</td>\n",
       "    </tr>\n",
       "    <tr>\n",
       "      <th>3</th>\n",
       "      <td>1503960366</td>\n",
       "      <td>2016-04-15</td>\n",
       "      <td>Friday</td>\n",
       "      <td>9762</td>\n",
       "      <td>6.28</td>\n",
       "      <td>2.14</td>\n",
       "      <td>1.26</td>\n",
       "      <td>2.83</td>\n",
       "      <td>0.0</td>\n",
       "      <td>29</td>\n",
       "      <td>34</td>\n",
       "      <td>209</td>\n",
       "      <td>726</td>\n",
       "      <td>272</td>\n",
       "      <td>998</td>\n",
       "      <td>1745</td>\n",
       "      <td>5.0</td>\n",
       "    </tr>\n",
       "    <tr>\n",
       "      <th>4</th>\n",
       "      <td>1503960366</td>\n",
       "      <td>2016-04-16</td>\n",
       "      <td>Saturday</td>\n",
       "      <td>12669</td>\n",
       "      <td>8.16</td>\n",
       "      <td>2.71</td>\n",
       "      <td>0.41</td>\n",
       "      <td>5.04</td>\n",
       "      <td>0.0</td>\n",
       "      <td>36</td>\n",
       "      <td>10</td>\n",
       "      <td>221</td>\n",
       "      <td>773</td>\n",
       "      <td>267</td>\n",
       "      <td>1040</td>\n",
       "      <td>1863</td>\n",
       "      <td>4.0</td>\n",
       "    </tr>\n",
       "    <tr>\n",
       "      <th>5</th>\n",
       "      <td>1503960366</td>\n",
       "      <td>2016-04-17</td>\n",
       "      <td>Sunday</td>\n",
       "      <td>9705</td>\n",
       "      <td>6.48</td>\n",
       "      <td>3.19</td>\n",
       "      <td>0.78</td>\n",
       "      <td>2.51</td>\n",
       "      <td>0.0</td>\n",
       "      <td>38</td>\n",
       "      <td>20</td>\n",
       "      <td>164</td>\n",
       "      <td>539</td>\n",
       "      <td>222</td>\n",
       "      <td>761</td>\n",
       "      <td>1728</td>\n",
       "      <td>4.0</td>\n",
       "    </tr>\n",
       "    <tr>\n",
       "      <th>6</th>\n",
       "      <td>1503960366</td>\n",
       "      <td>2016-04-18</td>\n",
       "      <td>Monday</td>\n",
       "      <td>13019</td>\n",
       "      <td>8.59</td>\n",
       "      <td>3.25</td>\n",
       "      <td>0.64</td>\n",
       "      <td>4.71</td>\n",
       "      <td>0.0</td>\n",
       "      <td>42</td>\n",
       "      <td>16</td>\n",
       "      <td>233</td>\n",
       "      <td>1149</td>\n",
       "      <td>291</td>\n",
       "      <td>1440</td>\n",
       "      <td>1921</td>\n",
       "      <td>5.0</td>\n",
       "    </tr>\n",
       "  </tbody>\n",
       "</table>\n",
       "</div>"
      ],
      "text/plain": [
       "           Id ActivityDate    WeekDay  TotalSteps  TotalDistance  \\\n",
       "0  1503960366   2016-04-12    Tuesday       13162           8.50   \n",
       "1  1503960366   2016-04-13  Wednesday       10735           6.97   \n",
       "2  1503960366   2016-04-14   Thursday       10460           6.74   \n",
       "3  1503960366   2016-04-15     Friday        9762           6.28   \n",
       "4  1503960366   2016-04-16   Saturday       12669           8.16   \n",
       "5  1503960366   2016-04-17     Sunday        9705           6.48   \n",
       "6  1503960366   2016-04-18     Monday       13019           8.59   \n",
       "\n",
       "   VeryActiveDistance  ModeratelyActiveDistance  LightActiveDistance  \\\n",
       "0                1.88                      0.55                 6.06   \n",
       "1                1.57                      0.69                 4.71   \n",
       "2                2.44                      0.40                 3.91   \n",
       "3                2.14                      1.26                 2.83   \n",
       "4                2.71                      0.41                 5.04   \n",
       "5                3.19                      0.78                 2.51   \n",
       "6                3.25                      0.64                 4.71   \n",
       "\n",
       "   SedentaryActiveDistance  VeryActiveMinutes  FairlyActiveMinutes  \\\n",
       "0                      0.0                 25                   13   \n",
       "1                      0.0                 21                   19   \n",
       "2                      0.0                 30                   11   \n",
       "3                      0.0                 29                   34   \n",
       "4                      0.0                 36                   10   \n",
       "5                      0.0                 38                   20   \n",
       "6                      0.0                 42                   16   \n",
       "\n",
       "   LightlyActiveMinutes  SedentaryMinutes  TotalActiveMinutes  TotalMinutes  \\\n",
       "0                   328               728                 366          1094   \n",
       "1                   217               776                 257          1033   \n",
       "2                   181              1218                 222          1440   \n",
       "3                   209               726                 272           998   \n",
       "4                   221               773                 267          1040   \n",
       "5                   164               539                 222           761   \n",
       "6                   233              1149                 291          1440   \n",
       "\n",
       "   Calories  TotalActiveHours  \n",
       "0      1985               6.0  \n",
       "1      1797               4.0  \n",
       "2      1776               4.0  \n",
       "3      1745               5.0  \n",
       "4      1863               4.0  \n",
       "5      1728               4.0  \n",
       "6      1921               5.0  "
      ]
     },
     "execution_count": 37,
     "metadata": {},
     "output_type": "execute_result"
    }
   ],
   "source": [
    "daily_activity.head(7)"
   ]
  },
  {
   "cell_type": "markdown",
   "id": "a2902ee0",
   "metadata": {},
   "source": [
    "All the days of the week are displaying as they should. Also, the newly created columns, TotalActiveMinutes, and TotalActiveHours are also showing correctly.\n",
    "\n",
    "### SUMMARY\n",
    "Lastly, I ran the describe function to get the statistical summary of the daily_activity dataset."
   ]
  },
  {
   "cell_type": "code",
   "execution_count": 38,
   "id": "014ba2e0",
   "metadata": {
    "scrolled": true
   },
   "outputs": [
    {
     "data": {
      "text/html": [
       "<div>\n",
       "<style scoped>\n",
       "    .dataframe tbody tr th:only-of-type {\n",
       "        vertical-align: middle;\n",
       "    }\n",
       "\n",
       "    .dataframe tbody tr th {\n",
       "        vertical-align: top;\n",
       "    }\n",
       "\n",
       "    .dataframe thead th {\n",
       "        text-align: right;\n",
       "    }\n",
       "</style>\n",
       "<table border=\"1\" class=\"dataframe\">\n",
       "  <thead>\n",
       "    <tr style=\"text-align: right;\">\n",
       "      <th></th>\n",
       "      <th>Id</th>\n",
       "      <th>TotalSteps</th>\n",
       "      <th>TotalDistance</th>\n",
       "      <th>VeryActiveDistance</th>\n",
       "      <th>ModeratelyActiveDistance</th>\n",
       "      <th>LightActiveDistance</th>\n",
       "      <th>SedentaryActiveDistance</th>\n",
       "      <th>VeryActiveMinutes</th>\n",
       "      <th>FairlyActiveMinutes</th>\n",
       "      <th>LightlyActiveMinutes</th>\n",
       "      <th>SedentaryMinutes</th>\n",
       "      <th>TotalActiveMinutes</th>\n",
       "      <th>TotalMinutes</th>\n",
       "      <th>Calories</th>\n",
       "      <th>TotalActiveHours</th>\n",
       "    </tr>\n",
       "  </thead>\n",
       "  <tbody>\n",
       "    <tr>\n",
       "      <th>count</th>\n",
       "      <td>9.400000e+02</td>\n",
       "      <td>940.000000</td>\n",
       "      <td>940.000000</td>\n",
       "      <td>940.000000</td>\n",
       "      <td>940.000000</td>\n",
       "      <td>940.000000</td>\n",
       "      <td>940.000000</td>\n",
       "      <td>940.000000</td>\n",
       "      <td>940.000000</td>\n",
       "      <td>940.000000</td>\n",
       "      <td>940.000000</td>\n",
       "      <td>940.000000</td>\n",
       "      <td>940.000000</td>\n",
       "      <td>940.000000</td>\n",
       "      <td>940.000000</td>\n",
       "    </tr>\n",
       "    <tr>\n",
       "      <th>mean</th>\n",
       "      <td>4.855407e+09</td>\n",
       "      <td>7637.910638</td>\n",
       "      <td>5.489702</td>\n",
       "      <td>1.502681</td>\n",
       "      <td>0.567543</td>\n",
       "      <td>3.340819</td>\n",
       "      <td>0.001606</td>\n",
       "      <td>21.164894</td>\n",
       "      <td>13.564894</td>\n",
       "      <td>192.812766</td>\n",
       "      <td>991.210638</td>\n",
       "      <td>227.542553</td>\n",
       "      <td>1218.753191</td>\n",
       "      <td>2303.609574</td>\n",
       "      <td>3.775532</td>\n",
       "    </tr>\n",
       "    <tr>\n",
       "      <th>std</th>\n",
       "      <td>2.424805e+09</td>\n",
       "      <td>5087.150742</td>\n",
       "      <td>3.924606</td>\n",
       "      <td>2.658941</td>\n",
       "      <td>0.883580</td>\n",
       "      <td>2.040655</td>\n",
       "      <td>0.007346</td>\n",
       "      <td>32.844803</td>\n",
       "      <td>19.987404</td>\n",
       "      <td>109.174700</td>\n",
       "      <td>301.267437</td>\n",
       "      <td>121.776307</td>\n",
       "      <td>265.931767</td>\n",
       "      <td>718.166862</td>\n",
       "      <td>2.057646</td>\n",
       "    </tr>\n",
       "    <tr>\n",
       "      <th>min</th>\n",
       "      <td>1.503960e+09</td>\n",
       "      <td>0.000000</td>\n",
       "      <td>0.000000</td>\n",
       "      <td>0.000000</td>\n",
       "      <td>0.000000</td>\n",
       "      <td>0.000000</td>\n",
       "      <td>0.000000</td>\n",
       "      <td>0.000000</td>\n",
       "      <td>0.000000</td>\n",
       "      <td>0.000000</td>\n",
       "      <td>0.000000</td>\n",
       "      <td>0.000000</td>\n",
       "      <td>2.000000</td>\n",
       "      <td>0.000000</td>\n",
       "      <td>0.000000</td>\n",
       "    </tr>\n",
       "    <tr>\n",
       "      <th>25%</th>\n",
       "      <td>2.320127e+09</td>\n",
       "      <td>3789.750000</td>\n",
       "      <td>2.620000</td>\n",
       "      <td>0.000000</td>\n",
       "      <td>0.000000</td>\n",
       "      <td>1.945000</td>\n",
       "      <td>0.000000</td>\n",
       "      <td>0.000000</td>\n",
       "      <td>0.000000</td>\n",
       "      <td>127.000000</td>\n",
       "      <td>729.750000</td>\n",
       "      <td>146.750000</td>\n",
       "      <td>989.750000</td>\n",
       "      <td>1828.500000</td>\n",
       "      <td>2.000000</td>\n",
       "    </tr>\n",
       "    <tr>\n",
       "      <th>50%</th>\n",
       "      <td>4.445115e+09</td>\n",
       "      <td>7405.500000</td>\n",
       "      <td>5.245000</td>\n",
       "      <td>0.210000</td>\n",
       "      <td>0.240000</td>\n",
       "      <td>3.365000</td>\n",
       "      <td>0.000000</td>\n",
       "      <td>4.000000</td>\n",
       "      <td>6.000000</td>\n",
       "      <td>199.000000</td>\n",
       "      <td>1057.500000</td>\n",
       "      <td>247.000000</td>\n",
       "      <td>1440.000000</td>\n",
       "      <td>2134.000000</td>\n",
       "      <td>4.000000</td>\n",
       "    </tr>\n",
       "    <tr>\n",
       "      <th>75%</th>\n",
       "      <td>6.962181e+09</td>\n",
       "      <td>10727.000000</td>\n",
       "      <td>7.712500</td>\n",
       "      <td>2.052500</td>\n",
       "      <td>0.800000</td>\n",
       "      <td>4.782500</td>\n",
       "      <td>0.000000</td>\n",
       "      <td>32.000000</td>\n",
       "      <td>19.000000</td>\n",
       "      <td>264.000000</td>\n",
       "      <td>1229.500000</td>\n",
       "      <td>317.250000</td>\n",
       "      <td>1440.000000</td>\n",
       "      <td>2793.250000</td>\n",
       "      <td>5.000000</td>\n",
       "    </tr>\n",
       "    <tr>\n",
       "      <th>max</th>\n",
       "      <td>8.877689e+09</td>\n",
       "      <td>36019.000000</td>\n",
       "      <td>28.030001</td>\n",
       "      <td>21.920000</td>\n",
       "      <td>6.480000</td>\n",
       "      <td>10.710000</td>\n",
       "      <td>0.110000</td>\n",
       "      <td>210.000000</td>\n",
       "      <td>143.000000</td>\n",
       "      <td>518.000000</td>\n",
       "      <td>1440.000000</td>\n",
       "      <td>552.000000</td>\n",
       "      <td>1440.000000</td>\n",
       "      <td>4900.000000</td>\n",
       "      <td>9.000000</td>\n",
       "    </tr>\n",
       "  </tbody>\n",
       "</table>\n",
       "</div>"
      ],
      "text/plain": [
       "                 Id    TotalSteps  TotalDistance  VeryActiveDistance  \\\n",
       "count  9.400000e+02    940.000000     940.000000          940.000000   \n",
       "mean   4.855407e+09   7637.910638       5.489702            1.502681   \n",
       "std    2.424805e+09   5087.150742       3.924606            2.658941   \n",
       "min    1.503960e+09      0.000000       0.000000            0.000000   \n",
       "25%    2.320127e+09   3789.750000       2.620000            0.000000   \n",
       "50%    4.445115e+09   7405.500000       5.245000            0.210000   \n",
       "75%    6.962181e+09  10727.000000       7.712500            2.052500   \n",
       "max    8.877689e+09  36019.000000      28.030001           21.920000   \n",
       "\n",
       "       ModeratelyActiveDistance  LightActiveDistance  SedentaryActiveDistance  \\\n",
       "count                940.000000           940.000000               940.000000   \n",
       "mean                   0.567543             3.340819                 0.001606   \n",
       "std                    0.883580             2.040655                 0.007346   \n",
       "min                    0.000000             0.000000                 0.000000   \n",
       "25%                    0.000000             1.945000                 0.000000   \n",
       "50%                    0.240000             3.365000                 0.000000   \n",
       "75%                    0.800000             4.782500                 0.000000   \n",
       "max                    6.480000            10.710000                 0.110000   \n",
       "\n",
       "       VeryActiveMinutes  FairlyActiveMinutes  LightlyActiveMinutes  \\\n",
       "count         940.000000           940.000000            940.000000   \n",
       "mean           21.164894            13.564894            192.812766   \n",
       "std            32.844803            19.987404            109.174700   \n",
       "min             0.000000             0.000000              0.000000   \n",
       "25%             0.000000             0.000000            127.000000   \n",
       "50%             4.000000             6.000000            199.000000   \n",
       "75%            32.000000            19.000000            264.000000   \n",
       "max           210.000000           143.000000            518.000000   \n",
       "\n",
       "       SedentaryMinutes  TotalActiveMinutes  TotalMinutes     Calories  \\\n",
       "count        940.000000          940.000000    940.000000   940.000000   \n",
       "mean         991.210638          227.542553   1218.753191  2303.609574   \n",
       "std          301.267437          121.776307    265.931767   718.166862   \n",
       "min            0.000000            0.000000      2.000000     0.000000   \n",
       "25%          729.750000          146.750000    989.750000  1828.500000   \n",
       "50%         1057.500000          247.000000   1440.000000  2134.000000   \n",
       "75%         1229.500000          317.250000   1440.000000  2793.250000   \n",
       "max         1440.000000          552.000000   1440.000000  4900.000000   \n",
       "\n",
       "       TotalActiveHours  \n",
       "count        940.000000  \n",
       "mean           3.775532  \n",
       "std            2.057646  \n",
       "min            0.000000  \n",
       "25%            2.000000  \n",
       "50%            4.000000  \n",
       "75%            5.000000  \n",
       "max            9.000000  "
      ]
     },
     "execution_count": 38,
     "metadata": {},
     "output_type": "execute_result"
    }
   ],
   "source": [
    "daily_activity.describe()"
   ]
  },
  {
   "cell_type": "markdown",
   "id": "6c1bbf95",
   "metadata": {},
   "source": [
    "#### Some Key Findings\n",
    "1. Out of 1218 Total minutes, 991 minutes were spent inactive (Sedentary)\n",
    "2. There was an average of 7638 total steps taken by the users daily.\n",
    "3. There is also an average of 2304 calories burnt daily.\n",
    "4. There is a positive correlation between steps taken and calories burnt."
   ]
  },
  {
   "cell_type": "markdown",
   "id": "7d595fa6",
   "metadata": {},
   "source": [
    "## <span style=\"color:#ed7674\">5. SHARE</span>\n",
    "To visualize the data, I started by loading some more libraries I would need."
   ]
  },
  {
   "cell_type": "code",
   "execution_count": 39,
   "id": "dadbd0b8",
   "metadata": {},
   "outputs": [],
   "source": [
    "import matplotlib.pyplot as plt\n",
    "import seaborn as sns"
   ]
  },
  {
   "cell_type": "markdown",
   "id": "1b792af6",
   "metadata": {},
   "source": [
    "### Sedentary Minutes Vs Total Active Minutes"
   ]
  },
  {
   "cell_type": "code",
   "execution_count": 40,
   "id": "91eff81e",
   "metadata": {},
   "outputs": [
    {
     "data": {
      "image/png": "[encoded data removed]",
      "text/plain": [
       "<Figure size 720x432 with 1 Axes>"
      ]
     },
     "metadata": {
      "needs_background": "light"
     },
     "output_type": "display_data"
    }
   ],
   "source": [
    "median_sedentaryminutes = 991\n",
    "median_TotalActiveMinutes = 228\n",
    "\n",
    "fig, ax = plt.subplots(figsize=(10,6))\n",
    "x = np.array([\"Sedentary Minutes\", \"TotalActiveMinutes\"])\n",
    "y = np.array([991, 220])\n",
    "plt.title(\"Sedentary Minutes Vs Total Active Minutes\")\n",
    "plt.bar(x, y, width = 0.8, color = \"#ed7674\")\n",
    "plt.show()"
   ]
  },
  {
   "cell_type": "markdown",
   "id": "75da9882",
   "metadata": {},
   "source": [
    "There is a huge gap between Sedentary minutes and Total Active Minutes. It is obvious that the users pend more time sitting or lying down, than they do being active. This can also say something about their occupation or lifestyle. Mostly likely they belong to the working class that spends countless hours behind their desk."
   ]
  },
  {
   "cell_type": "markdown",
   "id": "ec6d7e67",
   "metadata": {},
   "source": [
    "### Total Calories by Day of the Week"
   ]
  },
  {
   "cell_type": "code",
   "execution_count": 41,
   "id": "e5e6f258",
   "metadata": {
    "scrolled": true
   },
   "outputs": [
    {
     "data": {
      "image/png": "[encoded data removed]",
      "text/plain": [
       "<Figure size 864x360 with 1 Axes>"
      ]
     },
     "metadata": {
      "needs_background": "light"
     },
     "output_type": "display_data"
    }
   ],
   "source": [
    "fig, ax = plt.subplots(figsize=(12,5))\n",
    "plt.bar(newhour_merged.WeekDay, newhour_merged.Calories, color = \"#ed7674\")\n",
    "plt.xlabel(\"Week Day\")\n",
    "plt.ylabel(\"Calories Burned\")\n",
    "plt.title(\"Calories Burned by Day of the Week\")\n",
    "plt.grid()\n",
    "\n",
    "plt.show()"
   ]
  },
  {
   "cell_type": "markdown",
   "id": "f558de49",
   "metadata": {},
   "source": [
    "Interestingly, the least calories were burnt on **Monday**, which is quite strange for a day that is usually considered one of the busiest days at work. The first thing that came to mind is that the user are probably very busy on Mondays that they barely have enough time to exercise or take a walk. \n",
    "\n",
    "So, I checked the Total Steps by Day of the Week.\n",
    "\n",
    "### Total Steps By Day of The Week"
   ]
  },
  {
   "cell_type": "code",
   "execution_count": 42,
   "id": "8bcfcb2b",
   "metadata": {},
   "outputs": [
    {
     "data": {
      "image/png": "[encoded data removed]",
      "text/plain": [
       "<Figure size 864x360 with 1 Axes>"
      ]
     },
     "metadata": {
      "needs_background": "light"
     },
     "output_type": "display_data"
    }
   ],
   "source": [
    "fig, ax = plt.subplots(figsize=(12,5))\n",
    "plt.bar(daily_activity.WeekDay, daily_activity.TotalSteps, color = \"#ed7674\")\n",
    "plt.xlabel(\"Week Day\")\n",
    "plt.ylabel(\"Total Steps Taken\")\n",
    "plt.title(\"Total Steps Taken by Day of the Week\")\n",
    "plt.grid()\n",
    "plt.show()"
   ]
  },
  {
   "cell_type": "markdown",
   "id": "47d1c7ca",
   "metadata": {},
   "source": [
    "Here we see that indeed, the least steps were taken by the users on Monday compared to the other days of the week. \n",
    "\n",
    "### Correlation Between Total Steps and Calories burned\n",
    "Then I checked to see if there's a correlation between total steps taken and calories burnt."
   ]
  },
  {
   "cell_type": "code",
   "execution_count": 43,
   "id": "a7a82c16",
   "metadata": {
    "scrolled": true
   },
   "outputs": [
    {
     "data": {
      "image/png": "[encoded data removed]",
      "text/plain": [
       "<Figure size 864x360 with 1 Axes>"
      ]
     },
     "metadata": {
      "needs_background": "light"
     },
     "output_type": "display_data"
    }
   ],
   "source": [
    "fig, ax = plt.subplots(figsize=(12,5))\n",
    "plt.scatter(daily_activity.Calories, daily_activity.TotalSteps, color=\"#ed7674\")\n",
    "plt.xlabel(\"Calories Burned\")\n",
    "plt.ylabel(\"Total Steps\")\n",
    "plt.title(\"Total Steps Vs Calories Burned\")\n",
    "plt.show()"
   ]
  },
  {
   "cell_type": "markdown",
   "id": "fe1b90f6",
   "metadata": {},
   "source": [
    "Here it shows a positive correlation between calories burnt and steps taken, which goes a long way to explain why the least calories were burnt on Monday. \n",
    "\n",
    "### The Least Active Hour of The Day\n",
    "Finally I checked to see the least active hours of the day"
   ]
  },
  {
   "cell_type": "code",
   "execution_count": 44,
   "id": "4a818b67",
   "metadata": {
    "scrolled": true
   },
   "outputs": [
    {
     "data": {
      "image/png": "[encoded data removed]",
      "text/plain": [
       "<Figure size 864x360 with 1 Axes>"
      ]
     },
     "metadata": {
      "needs_background": "light"
     },
     "output_type": "display_data"
    }
   ],
   "source": [
    "#Least active time of the day for targeted Ads\n",
    "\n",
    "fig, axs = plt.subplots(figsize=(12, 5))\n",
    "newhour_merged.groupby(newhour_merged['ActivityHour'].dt.hour)['StepTotal'].mean().plot(kind='bar', rot=0, ax=axs, color='#ed7674', title='Least Active Hours of The Day')\n",
    "plt.xlabel(\"Hour of the Day\")\n",
    "plt.ylabel(\"Total Steps\")\n",
    "plt.show()"
   ]
  },
  {
   "cell_type": "markdown",
   "id": "de0c524b",
   "metadata": {},
   "source": [
    "Here we can see that the least active hours of the day are between 8 p.m and 10 p.m. These are probably the best hours to reach people with targetted ads."
   ]
  },
  {
   "cell_type": "markdown",
   "id": "2eac369c",
   "metadata": {},
   "source": [
    "## <span style=\"color:#ed7674\">6. ACT</span>\n",
    "### Recommendation"
   ]
  },
  {
   "cell_type": "markdown",
   "id": "2e4f2771",
   "metadata": {},
   "source": [
    "1.\t**Promotion**: The data we explored revealed that consumers are less active between 8 and 10 p.m., shortly before they retire for the night. This is the ideal moment for Bellabeat to schedule their advertising initiatives for optimal results. Google AdWords, for example, allows internet advertisers to schedule when their adverts are shown with its ad scheduling function. Such functions can allow Bellabeat to effectively reach its consumers. Scheduling adverts will also help Bellabeat save money on advertisements."
   ]
  },
  {
   "cell_type": "markdown",
   "id": "ccf2a218",
   "metadata": {},
   "source": [
    "2.\t**Retention**: The objective of any membership program is not limited to generating a regular stream of new members. Retention is crucial! According to an online **[report](https://themembershipguys.s3-us-west-2.amazonaws.com/Online+Membership+Industry+Report+-+2019.pdf)**, eighty percent of customers quit their subscription to a member site within the first two years of joining the site.  For Bellabeat to retain its consumers, it must focus on personalized contents that offer value. For instance, the data revealed a positive correlation between the number of steps walked and the number of calories burnt. The more steps a person takes each day, the more calories they burn. "
   ]
  },
  {
   "cell_type": "markdown",
   "id": "4efdb832",
   "metadata": {},
   "source": [
    "* However, the data revealed that one of the issues people have is that they are hardly able to reach the minimum 10,000 steps per day **[recommended](https://www.healthline.com/health/how-many-steps-a-day#How-many-steps-should-you-take-a-day?)** for healthy adults. To address this issue, Bellabeat can provide fascinating tips to assist its consumers achieve their daily objectives. This may be published periodically on its website. Additionally, it can create engaging challenges to motivate its users to walk regularly. This will not only drive engagement, but also provide enormous value to them. "
   ]
  },
  {
   "cell_type": "markdown",
   "id": "0f491021",
   "metadata": {},
   "source": [
    "* I also noted that people spend far more time being inactive than being active. Inactivity is related with several health problems, including obesity, heart disease, stroke, etc. Bellabeat can create explainer videos and blogs to educate its users about the negative impacts of sedentary lifestyle and how to prevent them. This is also a fantastic opportunity to promote its other products, such as the Bellabeat app, which provides users with lifestyle-related health data, and Time, which links to the Bellabeat app to offer users with insights on their daily wellbeing."
   ]
  },
  {
   "cell_type": "markdown",
   "id": "49624df0",
   "metadata": {},
   "source": [
    "### References"
   ]
  },
  {
   "cell_type": "markdown",
   "id": "bd5cbe8a",
   "metadata": {},
   "source": [
    "Bubnis, D. (2019, March 8). *How many Steps Do I need a Day?* Healthline. https://www.healthline.com/health/how-many-steps-a-day#How-many-steps-should-you-take-a-day?"
   ]
  },
  {
   "cell_type": "markdown",
   "id": "3490fcfa",
   "metadata": {},
   "source": [
    "Online Membership Industry Report. (2019). https://themembershipguys.s3-us-west-2.amazonaws.com/Online+Membership+Industry+Report+-+2019.pdf"
   ]
  }
 ],
 "metadata": {
  "kernelspec": {
   "display_name": "Python 3",
   "language": "python",
   "name": "python3"
  },
  "language_info": {
   "codemirror_mode": {
    "name": "ipython",
    "version": 3
   },
   "file_extension": ".py",
   "mimetype": "text/x-python",
   "name": "python",
   "nbconvert_exporter": "python",
   "pygments_lexer": "ipython3",
   "version": "3.8.8"
  }
 },
 "nbformat": 4,
 "nbformat_minor": 5
}
